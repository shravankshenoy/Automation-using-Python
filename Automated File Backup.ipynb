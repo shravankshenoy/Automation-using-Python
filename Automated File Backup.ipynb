{
 "cells": [
  {
   "cell_type": "code",
   "execution_count": 7,
   "metadata": {},
   "outputs": [],
   "source": [
    "import time\n",
    "import argparse\n",
    "import gzip\n",
    "import os\n",
    "import shutil\n",
    "import sys"
   ]
  },
  {
   "cell_type": "code",
   "execution_count": null,
   "metadata": {},
   "outputs": [],
   "source": [
    "#How to copy a subdirectory and all files within that from source folder to target folder?"
   ]
  },
  {
   "cell_type": "markdown",
   "metadata": {},
   "source": [
    "#### Code below flattens the entire directory"
   ]
  },
  {
   "cell_type": "code",
   "execution_count": 61,
   "metadata": {},
   "outputs": [],
   "source": [
    "\"\"\" Simple backup script which just creates the root structure in an other\n",
    "folder and syncs everything which recursevely lies within one of the source\n",
    "folders. For files bigger than a threshold they are first gziped.\"\"\"\n",
    "# Base code from https://codereview.stackexchange.com/questions/101616/simple-backup-script-in-python\n",
    "\n",
    "\n",
    "def parse_input():\n",
    "    parser = argparse.ArgumentParser()\n",
    "    parser.add_argument('-target', nargs=1, required=True,\n",
    "                        help='Target Backup folder')\n",
    "    parser.add_argument('-source', nargs='+', required=True,\n",
    "                        help='Source Files to be added')\n",
    "    parser.add_argument('-ignore', nargs=1,  type=int,\n",
    "                        help='Ignore threshold in bytes', default=[100000])\n",
    "\n",
    "    # no input means show me the help\n",
    "    if len(sys.argv) == 1:\n",
    "        parser.print_help()\n",
    "        sys.exit()\n",
    "\n",
    "    return parser.parse_args()\n",
    "\n",
    "\n",
    "def size_if_newer(source, target):\n",
    "    \"\"\" If newer it returns size, otherwise it returns False \"\"\"\n",
    "\n",
    "    src_stat = os.stat(source)\n",
    "    try:\n",
    "        target_ts = os.stat(target).st_mtime\n",
    "    except FileNotFoundError:\n",
    "        try:\n",
    "            target_ts = os.stat(target + '.gz').st_mtime\n",
    "        except FileNotFoundError:\n",
    "            target_ts = 0\n",
    "            \n",
    "    print(target_ts)\n",
    "    # The time difference of one second is necessary since subsecond accuracy\n",
    "    # of os.st_mtime is striped by copy2\n",
    "    return src_stat.st_size if (src_stat.st_mtime - target_ts > 1) else False\n",
    "\n",
    "\n",
    "def sync_file(source, target, compress):\n",
    "    size = size_if_newer(source, target)\n",
    "    #print(size)\n",
    "    \n",
    "\n",
    "    if size:\n",
    "        transfer_file(source, target, size > compress)\n",
    "\n",
    "\n",
    "def transfer_file(source, target, compress):\n",
    "    \"\"\" Either copy or compress and copies the file \"\"\"\n",
    "    print(source)\n",
    "    print(target)\n",
    "    try:\n",
    "        if compress:\n",
    "            \n",
    "            with gzip.open(target + '.gz', 'wb') as target_fid:\n",
    "                with open(source, 'rb') as source_fid:\n",
    "                    target_fid.writelines(source_fid)\n",
    "            print('Compress {}'.format(source))\n",
    "        else:\n",
    "            \n",
    "            shutil.copy2(source, target)\n",
    "            print('Copy {}'.format(source))\n",
    "    except FileNotFoundError:\n",
    "        os.makedirs(os.path.dirname(target))\n",
    "        transfer_file(source, target, compress)\n",
    "\n",
    "\n",
    "def sync_root(root, target):\n",
    "    #target = arg.target[0]\n",
    "    #compress = arg.compress[0]\n",
    "\n",
    "    for path, subfolders, files in os.walk(root):\n",
    "        for file in files:\n",
    "            source = os.path.join(path, file)\n",
    "            #print(os.path.join(target, source))\n",
    "            sync_file(source, os.path.join(target, file), 30000000)\n",
    "            \n",
    "        #for subfolder in subfolders:\n",
    "        #    source = os.path.join(path, subfolder)\n",
    "        #    print(os.path.join(target, source))\n",
    "        #    sync_file(source, os.path.join(target, subfolder), 300000000)\n",
    "                       \n",
    "\n",
    "\n"
   ]
  },
  {
   "cell_type": "code",
   "execution_count": 66,
   "metadata": {},
   "outputs": [],
   "source": [
    "\"\"\" Simple backup script which just creates the root structure in an other\n",
    "folder and syncs everything which recursevely lies within one of the source\n",
    "folders. For files bigger than a threshold they are first gziped.\"\"\"\n",
    "# Base code from https://codereview.stackexchange.com/questions/101616/simple-backup-script-in-python\n",
    "\n",
    "\n",
    "def parse_input():\n",
    "    parser = argparse.ArgumentParser()\n",
    "    parser.add_argument('-target', nargs=1, required=True,\n",
    "                        help='Target Backup folder')\n",
    "    parser.add_argument('-source', nargs='+', required=True,\n",
    "                        help='Source Files to be added')\n",
    "    parser.add_argument('-ignore', nargs=1,  type=int,\n",
    "                        help='Ignore threshold in bytes', default=[100000])\n",
    "\n",
    "    # no input means show me the help\n",
    "    if len(sys.argv) == 1:\n",
    "        parser.print_help()\n",
    "        sys.exit()\n",
    "\n",
    "    return parser.parse_args()\n",
    "\n",
    "\n",
    "def size_if_newer(source, target):\n",
    "    \"\"\" If newer it returns size, otherwise it returns False \"\"\"\n",
    "\n",
    "    src_stat = os.stat(source)\n",
    "    try:\n",
    "        target_ts = os.stat(target).st_mtime\n",
    "    except FileNotFoundError:\n",
    "        try:\n",
    "            target_ts = os.stat(target + '.gz').st_mtime\n",
    "        except FileNotFoundError:\n",
    "            target_ts = 0\n",
    "            \n",
    "    \n",
    "    # The time difference of one second is necessary since subsecond accuracy\n",
    "    # of os.st_mtime is striped by copy2\n",
    "    return src_stat.st_size if (src_stat.st_mtime - target_ts > 1) else False\n",
    "\n",
    "\n",
    "def sync_file(source, target, compress):\n",
    "    size = size_if_newer(source, target)\n",
    "       \n",
    "\n",
    "    if size:\n",
    "        transfer_file(source, target, size > compress)\n",
    "\n",
    "\n",
    "def transfer_file(source, target, compress):\n",
    "    \"\"\" Either copy or compress and copies the file \"\"\"\n",
    "    print(source)\n",
    "    print(target)\n",
    "    try:\n",
    "        if compress:\n",
    "            \n",
    "            with gzip.open(target + '.gz', 'wb') as target_fid:\n",
    "                with open(source, 'rb') as source_fid:\n",
    "                    target_fid.writelines(source_fid)\n",
    "            #print('Compress {}'.format(source))\n",
    "        else:\n",
    "            \n",
    "            shutil.copy2(source, target)\n",
    "            #print('Copy {}'.format(source))\n",
    "    except FileNotFoundError:\n",
    "        #os.makedirs(os.path.dirname(target))\n",
    "        #transfer_file(source, target, compress)\n",
    "        print(\"File Not Found\")\n",
    "\n",
    "\n",
    "def sync_root(source, target):\n",
    "    #target = arg.target[0]\n",
    "    #compress = arg.compress[0]\n",
    "\n",
    "    for src_dir, dirs, files in os.walk(source):\n",
    "        target_dir = src_dir.replace(source, target, 1)\n",
    "        if not os.path.exists(target_dir):\n",
    "            os.makedirs(target_dir)\n",
    "        for file in files:\n",
    "            src_file = os.path.join(src_dir, file)\n",
    "            target_file = os.path.join(target_dir, file)\n",
    "            #print(os.path.join(target, source))\n",
    "            sync_file(src_file, target_file, 30000000)\n",
    "            \n",
    "       "
   ]
  },
  {
   "cell_type": "code",
   "execution_count": 69,
   "metadata": {},
   "outputs": [
    {
     "name": "stdout",
     "output_type": "stream",
     "text": [
      "1620136032.5507853\n",
      "1619500238.8895915\n",
      "1619500917.92899\n",
      "1619500455.4810662\n",
      "1619696663.2261326\n",
      "1621505137.0351603\n",
      "1619687134.2137885\n",
      "1620169160.9814892\n",
      "1621734594.157142\n",
      "1619498915.5449724\n",
      "1619500455.4810662\n",
      "1619696663.2261326\n",
      "1621505137.0351603\n",
      "1619687134.2137885\n",
      "1620169160.9814892\n",
      "1621734594.157142\n",
      "1619498915.5449724\n"
     ]
    }
   ],
   "source": [
    "sync_root(r\"F:\\New Volume\\Blogs\",r\"F:\\New Volume\\Test folder\")"
   ]
  },
  {
   "cell_type": "code",
   "execution_count": 28,
   "metadata": {},
   "outputs": [
    {
     "data": {
      "text/plain": [
       "['iptables command in Linux with Examples - GeeksforGeeks.html',\n",
       " 'iptables command in Linux with Examples - GeeksforGeeks_files',\n",
       " 'The Beginner’s Guide to iptables, the Linux Firewall.html',\n",
       " 'The Beginner’s Guide to iptables, the Linux Firewall_files']"
      ]
     },
     "execution_count": 28,
     "metadata": {},
     "output_type": "execute_result"
    }
   ],
   "source": [
    "os.listdir(r\"F:\\New Volume\\New folder\")"
   ]
  },
  {
   "cell_type": "code",
   "execution_count": 58,
   "metadata": {},
   "outputs": [
    {
     "name": "stdout",
     "output_type": "stream",
     "text": [
      "F:\\New Volume\\Time Series Forecasting ['Forecasting TB'] ['time series introduction.docx', 'time-series-analysis-and-forecasts-with-prophet.ipynb']\n",
      "F:\\New Volume\\Time Series Forecasting\\Forecasting TB ['Forecasting', 'Forecasting Principles and Practice', 'Google'] ['backblue.gif', 'fade.gif', 'Forecasting Principles and Practice.whtt', 'Forecasting.whtt', 'Google.whtt', 'index.html']\n",
      "F:\\New Volume\\Time Series Forecasting\\Forecasting TB\\Forecasting ['cdn.jsdelivr.net', 'cdnjs.cloudflare.com', 'hts-cache', 'mathjax.rstudio.com', 'otexts.com'] ['backblue.gif', 'fade.gif', 'hts-log.txt', 'index.html']\n",
      "F:\\New Volume\\Time Series Forecasting\\Forecasting TB\\Forecasting\\cdn.jsdelivr.net ['npm'] []\n",
      "F:\\New Volume\\Time Series Forecasting\\Forecasting TB\\Forecasting\\cdn.jsdelivr.net\\npm ['hack-font@3'] []\n",
      "F:\\New Volume\\Time Series Forecasting\\Forecasting TB\\Forecasting\\cdn.jsdelivr.net\\npm\\hack-font@3 ['build'] []\n",
      "F:\\New Volume\\Time Series Forecasting\\Forecasting TB\\Forecasting\\cdn.jsdelivr.net\\npm\\hack-font@3\\build ['web'] []\n",
      "F:\\New Volume\\Time Series Forecasting\\Forecasting TB\\Forecasting\\cdn.jsdelivr.net\\npm\\hack-font@3\\build\\web ['fonts'] ['hack-subset.css']\n",
      "F:\\New Volume\\Time Series Forecasting\\Forecasting TB\\Forecasting\\cdn.jsdelivr.net\\npm\\hack-font@3\\build\\web\\fonts [] ['hack-bold-subsetfe98.woff', 'hack-bold-subsetfe98.woff2', 'hack-bolditalic-subsetfe98.woff', 'hack-bolditalic-subsetfe98.woff2', 'hack-italic-subsetfe98.woff2', 'hack-italic-webfontfe98.woff', 'hack-regular-subsetfe98.woff', 'hack-regular-subsetfe98.woff2']\n",
      "F:\\New Volume\\Time Series Forecasting\\Forecasting TB\\Forecasting\\cdnjs.cloudflare.com ['ajax'] []\n",
      "F:\\New Volume\\Time Series Forecasting\\Forecasting TB\\Forecasting\\cdnjs.cloudflare.com\\ajax ['libs'] []\n",
      "F:\\New Volume\\Time Series Forecasting\\Forecasting TB\\Forecasting\\cdnjs.cloudflare.com\\ajax\\libs ['jquery-easing'] []\n",
      "F:\\New Volume\\Time Series Forecasting\\Forecasting TB\\Forecasting\\cdnjs.cloudflare.com\\ajax\\libs\\jquery-easing ['1.3'] []\n",
      "F:\\New Volume\\Time Series Forecasting\\Forecasting TB\\Forecasting\\cdnjs.cloudflare.com\\ajax\\libs\\jquery-easing\\1.3 [] ['jquery.easing.min.js']\n",
      "F:\\New Volume\\Time Series Forecasting\\Forecasting TB\\Forecasting\\hts-cache [] ['doit.log', 'new.lst', 'new.txt', 'new.zip', 'readme.txt', 'winprofile.ini']\n",
      "F:\\New Volume\\Time Series Forecasting\\Forecasting TB\\Forecasting\\mathjax.rstudio.com ['2.7.2'] []\n",
      "F:\\New Volume\\Time Series Forecasting\\Forecasting TB\\Forecasting\\mathjax.rstudio.com\\2.7.2 [] ['MathJaxb198.js']\n",
      "F:\\New Volume\\Time Series Forecasting\\Forecasting TB\\Forecasting\\otexts.com ['fpp2', 'fppcn', 'fppkr'] ['index.html']\n",
      "F:\\New Volume\\Time Series Forecasting\\Forecasting TB\\Forecasting\\otexts.com\\fpp2 ['extrafiles', 'fpp_files', 'libs', 'solutions'] ['about-the-authors.html', 'accuracy.html', 'advanced-exercises.html', 'advanced-reading.html', 'advanced.html', 'aggregates.html', 'analogies.html', 'appendix-for-instructors.html', 'appendix-reviews.html', 'appendix-using-r.html', 'AR.html', 'arima-estimation.html', 'arima-ets.html', 'arima-exercises.html', 'arima-forecasting.html', 'arima-r.html', 'arima-reading.html', 'arima.html', 'arimaflowchart.png', 'Athanasopoulos.png', 'autocorrelation.html', 'backcasting.html', 'backshift.html', 'basic-steps.html', 'bibliography.html', 'bootstrap.html', 'bottom-up.html', 'buy-a-print-or-downloadable-version.html', 'case-studies.html', 'causality.html', 'classical-decomposition.html', 'combinations.html', 'complexseasonality.html', 'components.html', 'counts.html', 'data-methods.html', 'decomposition-exercises.html', 'decomposition-reading.html', 'decomposition.html', 'delphimethod.html', 'determining-what-to-forecast.html', 'dhr.html', 'dynamic-exercises.html', 'dynamic-reading.html', 'dynamic.html', 'estimation-and-model-selection.html', 'estimation.html', 'ets-forecasting.html', 'ets.html', 'expsmooth-exercises.html', 'expsmooth-reading.html', 'expsmooth.html', 'forecasting-decomposition.html', 'forecasting-on-training-and-test-sets.html', 'forecasting-regression.html', 'forecasting.html', 'fpp2_cover.jpg', 'further-reading.html', 'graphics-exercises.html', 'graphics-reading.html', 'graphics.html', 'gts.html', 'help.html', 'hierarchical-exercises.html', 'hierarchical-reading.html', 'hierarchical.html', 'holt-winters.html', 'holt.html', 'hts.html', 'hts.png', 'Hyndman.png', 'index-2.html', 'index.html', 'intro-exercises.html', 'intro-reading.html', 'intro.html', 'judgmental-adjustments.html', 'judgmental-limitations.html', 'judgmental-principles.html', 'judgmental-reading.html', 'judgmental.html', 'lag-plots.html', 'lagged-predictors.html', 'least-squares.html', 'limits.html', 'long-short-ts.html', 'MA.html', 'mapping-matrices.html', 'middle-out.html', 'missing-outliers.html', 'moving-averages.html', 'new-products.html', 'nnet1.png', 'nnet2.png', 'nnetar.html', 'non-seasonal-arima.html', 'nonlinear-regression.html', 'PBSprocess.png', 'pegelstable.png', 'perspective.html', 'planning.html', 'practical.html', 'prediction-intervals.html', 'reconciliation.html', 'regarima.html', 'regression-evaluation.html', 'regression-exercises.html', 'regression-intro.html', 'regression-matrices.html', 'regression-reading.html', 'regression.html', 'residuals.html', 'scatterplots.html', 'scenarios.html', 'seasonal-arima.html', 'seasonal-plots.html', 'seasonal-strength.html', 'seasonal-subseries-plots.html', 'seats.html', 'selecting-predictors.html', 'ses.html', 'simple-methods.html', 'statespacemodels.png', 'stationarity.html', 'stl.html', 'stochastic-and-deterministic-trends.html', 'style.css', 'taxonomy.html', 'the-forecast-package-in-r.html', 'time-plots.html', 'toolbox-exercises.html', 'toolbox-reading.html', 'toolbox.html', 'top-down.html', 'transformations.html', 'translations.html', 'ts-objects.html', 'tspatterns.html', 'useful-predictors.html', 'VAR.html', 'weekly.html', 'what-can-be-forecast.html', 'wn.html', 'x11.html']\n",
      "F:\\New Volume\\Time Series Forecasting\\Forecasting TB\\Forecasting\\otexts.com\\fpp2\\extrafiles [] ['ChulwalarCase.zip', 'Kolassa-review.pdf', 'retail.xlsx', 'TestBank.docx', 'tute1.csv']\n",
      "F:\\New Volume\\Time Series Forecasting\\Forecasting TB\\Forecasting\\otexts.com\\fpp2\\fpp_files ['figure-html'] []\n",
      "F:\\New Volume\\Time Series Forecasting\\Forecasting TB\\Forecasting\\otexts.com\\fpp2\\fpp_files\\figure-html [] ['7-HW-1.png', '7-oil-1.png', 'a10-1.png', 'a10diff-1.png', 'acfelec-1.png', 'acfguess-1.png', 'acfstationary-1.png', 'aelec-1.png', 'airetsplot-1.png', 'anscombe-1.png', 'ansett-1.png', 'armaroots-1.png', 'arp-1.png', 'austa-1.png', 'austa1-1.png', 'austa2-1.png', 'austaf-1.png', 'backcasting-1.png', 'baggedets-1.png', 'baggedf-1.png', 'beer-1.png', 'beeraccuracy-1.png', 'beeracf-1.png', 'beeragain-1.png', 'beerf-1.png', 'beerlagplot-1.png', 'beerlm1-1.png', 'beerlm2-1.png', 'beerlm3-1.png', 'biasadjust-1.png', 'BoxCoxlambda-1.png', 'calls-1.png', 'callsharmonics-1.png', 'callsmstl-1.png', 'callsmstlf-1.png', 'callstbats-1.png', 'checkresiduals-1.png', 'classical-elecequip-1.png', 'combineplot-1.png', 'conSimplePI-1.png', 'ConsInc-1.png', 'ConsInc2-1.png', 'ConsInc4-1.png', 'constrained-1.png', 'corr-1.png', 'cowmilk-1.png', 'croston-1.png', 'cv1-1.png', 'cv4-1.png', 'dampedtrend-1.png', 'debitcardscomparison-1.png', 'eatout-1.png', 'edemand-1.png', 'edemand2-1.png', 'ee1-1.png', 'ee2-1.png', 'ee4-1.png', 'eeadj2-1.png', 'elecdailyfc-1.png', 'elecdailyfit-1.png', 'elecdemand-1.png', 'elecdemand2-1.png', 'elecdemand4-1.png', 'elecdemand5-1.png', 'elecequip-sa-1.png', 'elecequip-stl-1.png', 'elecequip-stl2-1.png', 'elecequip-trend-1.png', 'elecequip2-1.png', 'elecequip3-1.png', 'elecequip4-1.png', 'elecequip5-1.png', 'elecscatter-1.png', 'electime-1.png', 'euretail1-1.png', 'euretail2-1.png', 'euretail3-1.png', 'euretail4-1.png', 'euretail5-1.png', 'euretail6-1.png', 'fig-7-comp-1.png', 'fig-7-LevelTrendSeas-1.png', 'fourexamples-1.png', 'gasforecast-1.png', 'gasstl-1.png', 'goldets-1.png', 'goldna-1.png', 'googf-1.png', 'googforecasts2-1.png', 'GroupTree-1.png', 'GSPacf-1.png', 'GSPautoplot-1.png', 'GSPfc-1.png', 'GSPhist-1.png', 'GSPresid-1.png', 'h02-1.png', 'h02b-1.png', 'h02f-1.png', 'h02res-1.png', 'hyndsight-1.png', 'isms-1.png', 'isms2-1.png', 'labour-1.png', 'labour2-1.png', 'MAMforecasts-1.png', 'MAMresiduals-1.png', 'MAMstates-1.png', 'maq-1.png', 'marathonLinear-1.png', 'marathonNonlinear-1.png', 'MultiPredictors-1.png', 'nnetarsim-1.png', 'nnetarsunspotf-1.png', 'outlier-1.png', 'positiveeggs-1.png', 'prison1-1.png', 'prisonBTS-1.png', 'prisonFcasts1-1.png', 'prisonFcasts2-1.png', 'prisongts-1.png', 'qcement2-1.png', 'qcement3-1.png', 'qcement5-1.png', 'residPiecewise-1.png', 'resids-1.png', 'resids2-1.png', 'ressales1-1.png', 'ressales2-1.png', 'ressales3-1.png', 'ScatterMatrix-1.png', 'ScatterMatrixch2-1.png', 'seasonplot1-1.png', 'seasonplot2-1.png', 'seats-1.png', 'ses-1.png', 'sheep-1.png', 'SLRpop1-1.png', 'splinef-1.png', 'spurious-1.png', 'stationary-1.png', 'stlbookts-1.png', 'subseriesplot-1.png', 'sunspotnnetar-1.png', 'tfc-1.png', 'tourismStates-1.png', 'tourismZones-1.png', 'traintest-1.png', 'tsCVplot-1.png', 'tslmspurious2-1.png', 'tvadvert-1.png', 'tvadvertf8-1.png', 'uschangeresidcheck-1.png', 'usconsump-1.png', 'usconsump3-1.png', 'usconsumpres-1.png', 'usconsumpres2-1.png', 'usconsumption-1.png', 'usconsumptionacf-1.png', 'usconsumptionf-1.png', 'usconsumptionpacf-1.png', 'usfitted1-1.png', 'usfitted2-1.png', 'usmelec-1.png', 'VAR3-1.png', 'vntimeplots-1.png', 'wnacfplus-1.png', 'wnoise-1.png', 'wnoiseacf-1.png', 'x11-1.png', 'x11-seasadj-1.png']\n",
      "F:\\New Volume\\Time Series Forecasting\\Forecasting TB\\Forecasting\\otexts.com\\fpp2\\libs ['gitbook-2.6.7', 'jquery-2.2.3', 'kePrint-0.0.1'] []\n",
      "F:\\New Volume\\Time Series Forecasting\\Forecasting TB\\Forecasting\\otexts.com\\fpp2\\libs\\gitbook-2.6.7 ['css', 'js'] []\n",
      "F:\\New Volume\\Time Series Forecasting\\Forecasting TB\\Forecasting\\otexts.com\\fpp2\\libs\\gitbook-2.6.7\\css ['fontawesome'] ['plugin-bookdown.css', 'plugin-fontsettings.css', 'plugin-highlight.css', 'plugin-search.css', 'plugin-table.css', 'style.css']\n",
      "F:\\New Volume\\Time Series Forecasting\\Forecasting TB\\Forecasting\\otexts.com\\fpp2\\libs\\gitbook-2.6.7\\css\\fontawesome [] ['fontawesome-webfont862f.ttf']\n",
      "F:\\New Volume\\Time Series Forecasting\\Forecasting TB\\Forecasting\\otexts.com\\fpp2\\libs\\gitbook-2.6.7\\js [] ['app.min.js', 'jquery.highlight.js', 'lunr.js', 'plugin-bookdown.js', 'plugin-fontsettings.js', 'plugin-search.js', 'plugin-sharing.js']\n",
      "F:\\New Volume\\Time Series Forecasting\\Forecasting TB\\Forecasting\\otexts.com\\fpp2\\libs\\jquery-2.2.3 [] ['jquery.min.js']\n",
      "F:\\New Volume\\Time Series Forecasting\\Forecasting TB\\Forecasting\\otexts.com\\fpp2\\libs\\kePrint-0.0.1 [] ['kePrint.js']\n",
      "F:\\New Volume\\Time Series Forecasting\\Forecasting TB\\Forecasting\\otexts.com\\fpp2\\solutions [] ['Chapter1-2.html', 'Chapter1.html', 'Chapter10-2.html', 'Chapter10.html', 'Chapter11-2.html', 'Chapter11.html', 'Chapter2-2.html', 'Chapter2.html', 'Chapter3-2.html', 'Chapter3.html', 'Chapter5-2.html', 'Chapter5.html', 'Chapter6-2.html', 'Chapter6.html', 'Chapter7-2.html', 'Chapter7.html', 'Chapter8-2.html', 'Chapter8.html', 'Chapter9-2.html', 'Chapter9.html']\n",
      "F:\\New Volume\\Time Series Forecasting\\Forecasting TB\\Forecasting\\otexts.com\\fppcn ['extrafiles', 'fpp_files', 'libs'] ['about-the-authors.html', 'about-the-translators.html', 'accuracy.html', 'advanced-cn.html', 'advanced-exercises.html', 'advanced-reading.html', 'aggregates.html', 'analogies.html', 'appendix-using-r.html', 'AR.html', 'arima-cn.html', 'arima-estimation.html', 'arima-ets.html', 'arima-exercises.html', 'arima-forecasting.html', 'arima-r.html', 'arima-reading.html', 'arimaflowchart.png', 'Athanasopoulos.png', 'autocorrelation.html', 'backcasting.html', 'backshift.html', 'basic-steps.html', 'bibliography.html', 'bootstrap.html', 'bottom-up.html', 'case-studies.html', 'causality.html', 'classical-decomposition.html', 'combination.html', 'complexseasonality.html', 'components.html', 'counts.html', 'data-methods.html', 'decomposition-cn.html', 'decomposition-exercises.html', 'decomposition-reading.html', 'delphimethod.html', 'determining-what-to-forecast.html', 'dhr.html', 'dynamic-cn.html', 'dynamic-exercises.html', 'dynamic-reading.html', 'estimation-and-model-selection.html', 'estimation.html', 'ets-forecasting.html', 'ets.html', 'expsmooth-cn.html', 'expsmooth-exercises.html', 'expsmooth-reading.html', 'feng.png', 'forecasting-decomposition.html', 'forecasting-on-training-and-test-sets.html', 'forecasting-regression.html', 'forecasting.html', 'fpp2_cover.jpg', 'further-reading.html', 'graphics-cn.html', 'graphics-exercises.html', 'graphics-reading.html', 'gts.html', 'hierarchical-cn.html', 'hierarchical-exercises.html', 'hierarchical-reading.html', 'holt-winters.html', 'holt.html', 'hts.html', 'Hyndman.png', 'index-2.html', 'index.html', 'intro-cn.html', 'intro-exercises.html', 'intro-reading.html', 'judgmental-adjustments.html', 'judgmental-cn.html', 'judgmental-limitations.html', 'judgmental-principles.html', 'judgmental-reading.html', 'lag-plots.html', 'lagged-predictors.html', 'least-squares.html', 'limits.html', 'long-short-ts.html', 'MA.html', 'mapping-matrices.html', 'middle-out.html', 'missing-outliers.html', 'moving-averages.html', 'new-products.html', 'nnet1.png', 'nnet2.png', 'nnetar.html', 'non-seasonal-arima.html', 'nonlinear-regression.html', 'PBSprocess.png', 'pegelstable.png', 'perspective.html', 'planning.html', 'practical-cn.html', 'prediction-intervals.html', 'reconciliation.html', 'regarima.html', 'regression-cn.html', 'regression-evaluation.html', 'regression-exercises.html', 'regression-intro.html', 'regression-matrices.html', 'regression-reading.html', 'residuals.html', 'scatterplots.html', 'scenarios.html', 'seasonal-arima.html', 'seasonal-plots.html', 'seasonal-strength.html', 'seasonal-subseries-plots.html', 'seats.html', 'selecting-predictors.html', 'ses.html', 'simple-methods.html', 'statespacemodels.png', 'stationarity.html', 'stl.html', 'stochastic-and-deterministic-trends.html', 'style.css', 'taxonomy.html', 'the-forecast-package-in-r.html', 'time-plots.html', 'toolbox-cn.html', 'toolbox-exercises.html', 'toolbox-reading.html', 'top-down.html', 'transformations.html', 'ts-objects.html', 'tspatterns.html', 'useful-predictors.html', 'VAR.html', 'weekly.html', 'what-can-be-forecast.html', 'wn.html', 'x11.html', 'yanfei.png']\n",
      "F:\\New Volume\\Time Series Forecasting\\Forecasting TB\\Forecasting\\otexts.com\\fppcn\\extrafiles [] ['retail.xlsx', 'tute1.csv']\n",
      "F:\\New Volume\\Time Series Forecasting\\Forecasting TB\\Forecasting\\otexts.com\\fppcn\\fpp_files ['figure-html'] []\n",
      "F:\\New Volume\\Time Series Forecasting\\Forecasting TB\\Forecasting\\otexts.com\\fppcn\\fpp_files\\figure-html [] ['6-decomp1-1.png', '7-HW-1.png', '7-oil-1.png', 'a10-1.png', 'a10diff-1.png', 'acfelec-1.png', 'acfguess-1.png', 'acfstationary-1.png', 'aelec-1.png', 'airetsplot-1.png', 'anscombe-1.png', 'ansett-1.png', 'armaroots-1.png', 'arp-1.png', 'austa-1.png', 'austa1-1.png', 'austa2-1.png', 'austaf-1.png', 'backcasting-1.png', 'baggedets-1.png', 'baggedf-1.png', 'beer-1.png', 'beeraccuracy-1.png', 'beeracf-1.png', 'beeragain-1.png', 'beerf-1.png', 'beerlagplot-1.png', 'beerlm1-1.png', 'beerlm2-1.png', 'beerlm3-1.png', 'biasadjust-1.png', 'BoxCoxlambda-1.png', 'calls-1.png', 'callsharmonics-1.png', 'callsmstl-1.png', 'callsmstlf-1.png', 'callstbats-1.png', 'checkresiduals-1.png', 'classical-elecequip-1.png', 'combineplot-1.png', 'conSimplePI-1.png', 'ConsInc-1.png', 'ConsInc2-1.png', 'ConsInc4-1.png', 'constrained-1.png', 'corr-1.png', 'cowmilk-1.png', 'croston-1.png', 'cv1-1.png', 'cv4-1.png', 'dampedtrend-1.png', 'debitcardscomparison-1.png', 'eatout-1.png', 'edemand-1.png', 'edemand2-1.png', 'ee1-1.png', 'ee2-1.png', 'ee4-1.png', 'eeadj2-1.png', 'elecdailyf-1.png', 'elecdailyf-2.png', 'elecdailyfit-1.png', 'elecdemand-1.png', 'elecdemand2-1.png', 'elecdemand4-1.png', 'elecdemand5-1.png', 'elecequip-sa-1.png', 'elecequip-stl-1.png', 'elecequip-stl2-1.png', 'elecequip-trend-1.png', 'elecequip2-1.png', 'elecequip3-1.png', 'elecequip4-1.png', 'elecequip5-1.png', 'elecscatter-1.png', 'electime-1.png', 'euretail1-1.png', 'euretail2-1.png', 'euretail3-1.png', 'euretail4-1.png', 'euretail5-1.png', 'euretail6-1.png', 'fig-7-comp-1.png', 'fig-7-LevelTrendSeas-1.png', 'gasforecast-1.png', 'gasstl-1.png', 'goldets-1.png', 'goldna-1.png', 'googf-1.png', 'googforecasts2-1.png', 'GroupTree-1.png', 'GSPacf-1.png', 'GSPautoplot-1.png', 'GSPfc-1.png', 'GSPhist-1.png', 'GSPresid-1.png', 'h02-1.png', 'h02b-1.png', 'h02f-1.png', 'h02res-1.png', 'HierTree-1.png', 'hyndsight-1.png', 'isms-1.png', 'isms2-1.png', 'labour-1.png', 'labour2-1.png', 'MAMforecasts-1.png', 'MAMresiduals-1.png', 'MAMstates-1.png', 'maq-1.png', 'marathonLinear-1.png', 'marathonNonlinear-1.png', 'MultiPredictors-1.png', 'nnetarsim-1.png', 'nnetarsunspotf-1.png', 'outlier-1.png', 'positiveeggs-1.png', 'prison-1.png', 'prison1-1.png', 'prisonBTS-1.png', 'prisonFcasts1-1.png', 'prisonFcasts2-1.png', 'qcement2-1.png', 'qcement3-1.png', 'qcement5-1.png', 'residPiecewise-1.png', 'resids-1.png', 'resids2-1.png', 'ressales1-1.png', 'ressales2-1.png', 'ressales3-1.png', 'ScatterMatrix-1.png', 'ScatterMatrixch2-1.png', 'seasonplot1-1.png', 'seasonplot2-1.png', 'seats-1.png', 'ses-1.png', 'sheep-1.png', 'SLRpop1-1.png', 'splinef-1.png', 'spurious-1.png', 'stationary-1.png', 'stlbookts-1.png', 'subseriesplot-1.png', 'sunspotnnetar-1.png', 'tfc-1.png', 'tourismStates-1.png', 'tourismZones-1.png', 'traintest-1.png', 'tsCVplot-1.png', 'tslmspurious2-1.png', 'tvadvert-1.png', 'tvadvertf8-1.png', 'uschangeresidcheck-1.png', 'usconsump-1.png', 'usconsump3-1.png', 'usconsumpres-1.png', 'usconsumpres2-1.png', 'usconsumption-1.png', 'usconsumptionacf-1.png', 'usconsumptionf-1.png', 'usconsumptionpacf-1.png', 'usfitted1-1.png', 'usfitted2-1.png', 'usmelec-1.png', 'VAR3-1.png', 'vntimeplots-1.png', 'wnacfplus-1.png', 'wnoise-1.png', 'wnoiseacf-1.png', 'x11-1.png', 'x11-seasadj-1.png']\n",
      "F:\\New Volume\\Time Series Forecasting\\Forecasting TB\\Forecasting\\otexts.com\\fppcn\\libs ['gitbook-2.6.7', 'jquery-2.2.3', 'kePrint-0.0.1'] []\n",
      "F:\\New Volume\\Time Series Forecasting\\Forecasting TB\\Forecasting\\otexts.com\\fppcn\\libs\\gitbook-2.6.7 ['css', 'js'] []\n",
      "F:\\New Volume\\Time Series Forecasting\\Forecasting TB\\Forecasting\\otexts.com\\fppcn\\libs\\gitbook-2.6.7\\css ['fontawesome'] ['plugin-bookdown.css', 'plugin-fontsettings.css', 'plugin-highlight.css', 'plugin-search.css', 'plugin-table.css', 'style.css']\n",
      "F:\\New Volume\\Time Series Forecasting\\Forecasting TB\\Forecasting\\otexts.com\\fppcn\\libs\\gitbook-2.6.7\\css\\fontawesome [] ['fontawesome-webfont862f.ttf']\n"
     ]
    },
    {
     "name": "stdout",
     "output_type": "stream",
     "text": [
      "F:\\New Volume\\Time Series Forecasting\\Forecasting TB\\Forecasting\\otexts.com\\fppcn\\libs\\gitbook-2.6.7\\js [] ['app.min.js', 'jquery.highlight.js', 'lunr.js', 'plugin-bookdown.js', 'plugin-fontsettings.js', 'plugin-search.js', 'plugin-sharing.js']\n",
      "F:\\New Volume\\Time Series Forecasting\\Forecasting TB\\Forecasting\\otexts.com\\fppcn\\libs\\jquery-2.2.3 [] ['jquery.min.js']\n",
      "F:\\New Volume\\Time Series Forecasting\\Forecasting TB\\Forecasting\\otexts.com\\fppcn\\libs\\kePrint-0.0.1 [] ['kePrint.js']\n",
      "F:\\New Volume\\Time Series Forecasting\\Forecasting TB\\Forecasting\\otexts.com\\fppkr ['extrafiles', 'fpp_files', 'libs'] ['-.html', 'about-authors.html', 'accuracy.html', 'advanced-exercises.html', 'advanced-reading.html', 'advanced.html', 'aggregates.html', 'analogies.html', 'appendix-for-instructors.html', 'Appendix-reviews.html', 'AR.html', 'arima-estimation.html', 'arima-ets.html', 'arima-exercises.html', 'arima-forecasting.html', 'arima-r.html', 'arima-reading.html', 'arima.html', 'arimaflowchart.png', 'Athanasopoulos.png', 'backcasting.html', 'backshift.html', 'basic-steps.html', 'Bibliography.html', 'bootstrap.html', 'bottom-up.html', 'buy-a-print-or-downloadable-version.html', 'case-studies.html', 'causality.html', 'classical-decomposition.html', 'combinations.html', 'complexseasonality.html', 'components.html', 'counts.html', 'data-methods.html', 'decomposition-exercises.html', 'decomposition-reading.html', 'decomposition.html', 'delphimethod.html', 'dhr.html', 'dynamic-exercises.html', 'dynamic-reading.html', 'dynamic-regression-estimation.html', 'dynamic-regression-forecasting.html', 'dynamic-regression-lagged-predictors.html', 'dynamic-regression-stochastic-and-deterministic-trends.html', 'dynamic.html', 'ebb288ec97adebb3b8.html', 'ets-forecasting.html', 'ets.html', 'expsmooth-estimation-and-model-selection.html', 'expsmooth-exercises.html', 'expsmooth-reading.html', 'expsmooth.html', 'forecast-training-and-test-set.html', 'forecasting-decomposition.html', 'forecasting-regression.html', 'fpp2_cover.jpg', 'graphics-autocorrelation.html', 'graphics-exercises.html', 'graphics-lag-plots.html', 'graphics-reading.html', 'graphics-scatterplots.html', 'graphics-seasonal-plots.html', 'graphics-seasonal-subseries-plots.html', 'graphics-time-plots.html', 'graphics-ts-objects.html', 'graphics.html', 'gts.html', 'hierarchical-exercises.html', 'hierarchical-reading.html', 'hierarchical.html', 'holt-winters.html', 'holt.html', 'hts.html', 'hts.png', 'Hyndman.png', 'index-2.html', 'index.html', 'intro-determining-what-to-forecast.html', 'intro-exercises.html', 'intro-reading.html', 'intro.html', 'judgmental-adjustments.html', 'judgmental-limitations.html', 'judgmental-principles.html', 'judgmental-reading.html', 'judgmental.html', 'least-squares.html', 'limits.html', 'long-short-ts.html', 'MA.html', 'mapping-matrices.html', 'middle-out.html', 'missing-outliers.html', 'moving-averages.html', 'new-products.html', 'nnet1.png', 'nnet2.png', 'nnetar.html', 'non-seasonal-arima.html', 'nonlinear-regression.html', 'PBSprocess.png', 'pegelstable.png', 'perspective.html', 'planning.html', 'practical-reading.html', 'practical.html', 'prediction-intervals.html', 'r-forecast-.html', 'reconciliation.html', 'regarima.html', 'regression-evaluation.html', 'regression-exercises.html', 'regression-intro.html', 'regression-matrices.html', 'regression-reading.html', 'regression.html', 'residuals.html', 'scenarios.html', 'seasonal-arima.html', 'seasonal-strength.html', 'seats.html', 'selecting-predictors.html', 'ses.html', 'simple-methods.html', 'statespacemodels.png', 'stationarity.html', 'stl.html', 'style.css', 'taxonomy.html', 'toolbox-exercises.html', 'toolbox-reading.html', 'toolbox.html', 'top-down.html', 'transformations.html', 'tspatterns.html', 'useful-predictors.html', 'usingR.html', 'VAR.html', 'weekly.html', 'wn.html', 'www.databaseolympics.html', 'x11.html']\n",
      "F:\\New Volume\\Time Series Forecasting\\Forecasting TB\\Forecasting\\otexts.com\\fppkr\\extrafiles [] ['ChulwalarCase.zip', 'Kolassa-review.pdf', 'TestBank.docx']\n",
      "F:\\New Volume\\Time Series Forecasting\\Forecasting TB\\Forecasting\\otexts.com\\fppkr\\fpp_files ['figure-html'] []\n",
      "F:\\New Volume\\Time Series Forecasting\\Forecasting TB\\Forecasting\\otexts.com\\fppkr\\fpp_files\\figure-html [] ['7-HW-1.png', '7-oil-1.png', 'a10-1.png', 'a10diff-1.png', 'acfelec-1.png', 'acfguess-1.png', 'acfstationary-1.png', 'aelec-1.png', 'airetsplot-1.png', 'anscombe-1.png', 'ansett-1.png', 'armaroots-1.png', 'arp-1.png', 'austa-1.png', 'austa1-1.png', 'austa2-1.png', 'austaf-1.png', 'backcasting-1.png', 'baggedets-1.png', 'baggedf-1.png', 'beer-1.png', 'beeraccuracy-1.png', 'beeracf-1.png', 'beeragain-1.png', 'beerf-1.png', 'beerlagplot-1.png', 'beerlm1-1.png', 'beerlm2-1.png', 'beerlm3-1.png', 'biasadjust-1.png', 'BoxCoxlambda-1.png', 'calls-1.png', 'callsharmonics-1.png', 'callsmstl-1.png', 'callsmstlf-1.png', 'callstbats-1.png', 'checkresiduals-1.png', 'classical-elecequip-1.png', 'combineplot-1.png', 'conSimplePI-1.png', 'ConsInc-1.png', 'ConsInc2-1.png', 'ConsInc4-1.png', 'constrained-1.png', 'corr-1.png', 'cowmilk-1.png', 'croston-1.png', 'cv1-1.png', 'cv4-1.png', 'dampedtrend-1.png', 'debitcardscomparison-1.png', 'eatout-1.png', 'edemand-1.png', 'edemand2-1.png', 'ee1-1.png', 'ee2-1.png', 'ee4-1.png', 'eeadj2-1.png', 'elecdailyfc-1.png', 'elecdailyfit-1.png', 'elecdemand-1.png', 'elecdemand2-1.png', 'elecdemand4-1.png', 'elecdemand5-1.png', 'elecequip-sa-1.png', 'elecequip-stl-1.png', 'elecequip-stl2-1.png', 'elecequip-trend-1.png', 'elecequip2-1.png', 'elecequip3-1.png', 'elecequip4-1.png', 'elecequip5-1.png', 'elecscatter-1.png', 'electime-1.png', 'euretail1-1.png', 'euretail2-1.png', 'euretail3-1.png', 'euretail4-1.png', 'euretail5-1.png', 'euretail6-1.png', 'fig-7-comp-1.png', 'fig-7-LevelTrendSeas-1.png', 'fourexamples-1.png', 'gasforecast-1.png', 'gasstl-1.png', 'goldets-1.png', 'goldna-1.png', 'googf-1.png', 'googforecasts2-1.png', 'GroupTree-1.png', 'GSPacf-1.png', 'GSPautoplot-1.png', 'GSPfc-1.png', 'GSPhist-1.png', 'GSPresid-1.png', 'h02-1.png', 'h02b-1.png', 'h02f-1.png', 'h02res-1.png', 'hyndsight-1.png', 'isms-1.png', 'isms2-1.png', 'labour-1.png', 'labour2-1.png', 'MAMforecasts-1.png', 'MAMresiduals-1.png', 'MAMstates-1.png', 'maq-1.png', 'marathonLinear-1.png', 'marathonNonlinear-1.png', 'MultiPredictors-1.png', 'nnetarsim-1.png', 'nnetarsunspotf-1.png', 'outlier-1.png', 'positiveeggs-1.png', 'prison1-1.png', 'prisonBTS-1.png', 'prisonFcasts1-1.png', 'prisonFcasts2-1.png', 'prisongts-1.png', 'qcement2-1.png', 'qcement3-1.png', 'qcement5-1.png', 'residPiecewise-1.png', 'resids-1.png', 'resids2-1.png', 'ressales1-1.png', 'ressales2-1.png', 'ressales3-1.png', 'ScatterMatrix-1.png', 'ScatterMatrixch2-1.png', 'seasonplot1-1.png', 'seasonplot2-1.png', 'seats-1.png', 'ses-1.png', 'sheep-1.png', 'SLRpop1-1.png', 'splinef-1.png', 'spurious-1.png', 'stationary-1.png', 'stlbookts-1.png', 'subseriesplot-1.png', 'sunspotnnetar-1.png', 'tfc-1.png', 'tourismStates-1.png', 'tourismZones-1.png', 'traintest-1.png', 'tsCVplot-1.png', 'tslmspurious2-1.png', 'tvadvert-1.png', 'tvadvertf8-1.png', 'uschangeresidcheck-1.png', 'usconsump-1.png', 'usconsump3-1.png', 'usconsumpres-1.png', 'usconsumpres2-1.png', 'usconsumption-1.png', 'usconsumptionacf-1.png', 'usconsumptionf-1.png', 'usconsumptionpacf-1.png', 'usfitted1-1.png', 'usfitted2-1.png', 'usmelec-1.png', 'VAR3-1.png', 'vntimeplots-1.png', 'wnacfplus-1.png', 'wnoise-1.png', 'wnoiseacf-1.png', 'x11-1.png', 'X11-seasadj-1.png']\n",
      "F:\\New Volume\\Time Series Forecasting\\Forecasting TB\\Forecasting\\otexts.com\\fppkr\\libs ['gitbook-2.6.7', 'jquery-2.2.3', 'kePrint-0.0.1'] []\n",
      "F:\\New Volume\\Time Series Forecasting\\Forecasting TB\\Forecasting\\otexts.com\\fppkr\\libs\\gitbook-2.6.7 ['css', 'js'] []\n",
      "F:\\New Volume\\Time Series Forecasting\\Forecasting TB\\Forecasting\\otexts.com\\fppkr\\libs\\gitbook-2.6.7\\css ['fontawesome'] ['plugin-bookdown.css', 'plugin-fontsettings.css', 'plugin-highlight.css', 'plugin-search.css', 'plugin-table.css', 'style.css']\n",
      "F:\\New Volume\\Time Series Forecasting\\Forecasting TB\\Forecasting\\otexts.com\\fppkr\\libs\\gitbook-2.6.7\\css\\fontawesome [] ['fontawesome-webfont862f.ttf']\n",
      "F:\\New Volume\\Time Series Forecasting\\Forecasting TB\\Forecasting\\otexts.com\\fppkr\\libs\\gitbook-2.6.7\\js [] ['app.min.js', 'jquery.highlight.js', 'lunr.js', 'plugin-bookdown.js', 'plugin-fontsettings.js', 'plugin-search.js', 'plugin-sharing.js']\n",
      "F:\\New Volume\\Time Series Forecasting\\Forecasting TB\\Forecasting\\otexts.com\\fppkr\\libs\\jquery-2.2.3 [] ['jquery.min.js']\n",
      "F:\\New Volume\\Time Series Forecasting\\Forecasting TB\\Forecasting\\otexts.com\\fppkr\\libs\\kePrint-0.0.1 [] ['kePrint.js']\n",
      "F:\\New Volume\\Time Series Forecasting\\Forecasting TB\\Forecasting Principles and Practice ['hts-cache', 'otexts.com'] ['backblue.gif', 'fade.gif', 'hts-log.txt', 'index.html']\n",
      "F:\\New Volume\\Time Series Forecasting\\Forecasting TB\\Forecasting Principles and Practice\\hts-cache [] ['doit.log', 'new.lst', 'new.txt', 'new.zip', 'readme.txt', 'winprofile.ini']\n",
      "F:\\New Volume\\Time Series Forecasting\\Forecasting TB\\Forecasting Principles and Practice\\otexts.com ['fpp2'] []\n"
     ]
    },
    {
     "name": "stdout",
     "output_type": "stream",
     "text": [
      "F:\\New Volume\\Time Series Forecasting\\Forecasting TB\\Forecasting Principles and Practice\\otexts.com\\fpp2 [] ['index.html']\n",
      "F:\\New Volume\\Time Series Forecasting\\Forecasting TB\\Google ['hts-cache'] ['hts-log.txt']\n",
      "F:\\New Volume\\Time Series Forecasting\\Forecasting TB\\Google\\hts-cache [] ['doit.log', 'new.lst', 'new.txt', 'new.zip', 'readme.txt', 'winprofile.ini']\n"
     ]
    }
   ],
   "source": [
    "for path, a, files in os.walk(r\"F:\\New Volume\\Time Series Forecasting\"):\n",
    "    print(path,a, files)"
   ]
  },
  {
   "cell_type": "code",
   "execution_count": 4,
   "metadata": {},
   "outputs": [
    {
     "data": {
      "text/plain": [
       "os.stat_result(st_mode=33206, st_ino=48413695994971928, st_dev=687624173, st_nlink=1, st_uid=0, st_gid=0, st_size=4871, st_atime=1617511319, st_mtime=1617511267, st_ctime=1617511227)"
      ]
     },
     "execution_count": 4,
     "metadata": {},
     "output_type": "execute_result"
    }
   ],
   "source": [
    "os.stat(r'C:\\Users\\Dell\\Documents\\Files List 4-Apr-2021.txt')"
   ]
  },
  {
   "cell_type": "code",
   "execution_count": 10,
   "metadata": {},
   "outputs": [
    {
     "data": {
      "text/plain": [
       "'Sun Apr  4 10:11:07 2021'"
      ]
     },
     "execution_count": 10,
     "metadata": {},
     "output_type": "execute_result"
    }
   ],
   "source": [
    "time.ctime(os.path.getmtime(r'C:\\Users\\Dell\\Documents\\Files List 4-Apr-2021.txt'))"
   ]
  },
  {
   "cell_type": "code",
   "execution_count": 11,
   "metadata": {},
   "outputs": [
    {
     "data": {
      "text/plain": [
       "'Thu Jan  1 05:30:00 1970'"
      ]
     },
     "execution_count": 11,
     "metadata": {},
     "output_type": "execute_result"
    }
   ],
   "source": [
    "time.ctime(0)"
   ]
  },
  {
   "cell_type": "code",
   "execution_count": null,
   "metadata": {},
   "outputs": [],
   "source": []
  }
 ],
 "metadata": {
  "kernelspec": {
   "display_name": "Python 3",
   "language": "python",
   "name": "python3"
  },
  "language_info": {
   "codemirror_mode": {
    "name": "ipython",
    "version": 3
   },
   "file_extension": ".py",
   "mimetype": "text/x-python",
   "name": "python",
   "nbconvert_exporter": "python",
   "pygments_lexer": "ipython3",
   "version": "3.6.4"
  }
 },
 "nbformat": 4,
 "nbformat_minor": 2
}
